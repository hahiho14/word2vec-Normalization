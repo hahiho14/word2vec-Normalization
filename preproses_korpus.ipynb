{
 "cells": [
  {
   "cell_type": "code",
   "execution_count": 2,
   "metadata": {},
   "outputs": [],
   "source": [
    "import os\n",
    "import nltk"
   ]
  },
  {
   "cell_type": "code",
   "execution_count": 3,
   "metadata": {},
   "outputs": [],
   "source": [
    "data = []\n",
    "for root, dirs, files in os.walk('SNS\\\\political_corpus\\\\'):\n",
    "    for file in files:\n",
    "        if not file.endswith(\".py\") and not file.endswith(\".txt\"):\n",
    "            f = open(os.path.join(root, file), 'r', encoding='utf8')\n",
    "            lines = f.readlines()\n",
    "            for line in lines:\n",
    "                tokens = nltk.word_tokenize(line)\n",
    "                data.append(tokens)"
   ]
  },
  {
   "cell_type": "code",
   "execution_count": 3,
   "metadata": {},
   "outputs": [
    {
     "name": "stdout",
     "output_type": "stream",
     "text": [
      "[['Persija', 'Jakarta', 'siap', 'tempur', 'menghadapi', 'Selangor', 'FA', 'dalam', 'laga', 'ujicoba', '.'], ['Persija', 'ingin', 'kembali', 'ke', 'bentuk', 'terbaik', 'sebelum', 'Liga', '1', 'kembali', 'digulirkan', '.'], ['Persija', 'akan', 'melawan', 'Selangor', 'FA', 'di', 'Stadion', 'Patriot', 'Candrabhaga', 'malam', '.'], ['Bagi', 'Selangor', ',', 'ini', 'adalah', 'ujicoba', 'keduanya', 'di', 'Indonesia', 'setelah', 'sebelumnya', 'menjajal', 'Madura', 'United', '.'], ['Pada', 'laga', 'ujicoba', 'di', 'Stadion', 'Gelora', 'Ratu', 'Pamelingan', ',', 'Evan', 'Dimas', 'dkk', 'kalah', 'telak', 'dengan', 'skor', '1-4', 'dari', 'Madura', 'United', '.'], ['Namun', 'yang', 'jelas', ',', 'Persija', 'mesti', 'memperlihatkan', 'performa', 'apik', 'menjelang', 'laga', 'melawan', 'Borneo', 'pada', '12', 'September', '.'], ['Kami', 'tahu', 'lawan', 'Madura', 'United', 'punya', 'kualitas', '.'], ['Yang', 'kedua', 'saya', 'pernah', 'bekerja', 'di', 'Malaysia', 'mereka', 'tak', 'terbiasa', 'main', 'di', 'siang', 'hari', '.'], ['Mungkin', 'karena', 'panas', 'membuat', 'Selangor', 'FA', 'kesulitan', ',', 'ujar', 'dia', 'kepada', 'pewarta', 'jelang', 'laga', 'di', 'Bekasi', '.']]\n"
     ]
    }
   ],
   "source": [
    "print(data[0:9])"
   ]
  },
  {
   "cell_type": "code",
   "execution_count": 4,
   "metadata": {},
   "outputs": [],
   "source": [
    "# Importing library \n",
    "import csv \n",
    "\n",
    "# opening the csv file in 'a+' mode \n",
    "file = open('korpus.csv', 'a+', newline ='', encoding='utf-8') \n",
    "  \n",
    "# writing the data into the file \n",
    "with file:     \n",
    "    write = csv.writer(file) \n",
    "    write.writerows(data)"
   ]
  }
 ],
 "metadata": {
  "kernelspec": {
   "display_name": "Python 3",
   "language": "python",
   "name": "python3"
  },
  "language_info": {
   "codemirror_mode": {
    "name": "ipython",
    "version": 3
   },
   "file_extension": ".py",
   "mimetype": "text/x-python",
   "name": "python",
   "nbconvert_exporter": "python",
   "pygments_lexer": "ipython3",
   "version": "3.7.3"
  }
 },
 "nbformat": 4,
 "nbformat_minor": 2
}
